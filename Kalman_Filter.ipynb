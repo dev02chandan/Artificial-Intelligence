{
  "nbformat": 4,
  "nbformat_minor": 0,
  "metadata": {
    "colab": {
      "provenance": []
    },
    "kernelspec": {
      "name": "python3",
      "display_name": "Python 3"
    },
    "language_info": {
      "name": "python"
    }
  },
  "cells": [
    {
      "cell_type": "markdown",
      "source": [
        "### Aim: Implement 2D Kalman Filter using steps mentioned in Theory and calculate position and velocity of object after 6 iterations. "
      ],
      "metadata": {
        "id": "vV0CW2vgWVWg"
      }
    },
    {
      "cell_type": "markdown",
      "source": [
        "### Use following data:\n",
        "x0= 4000 meter,  Vx0= 280 m/sec, y0= 3000 meter, Vy0=120 m/sec,  \n",
        "Initial Conditions:\n",
        "ax= 2 m/sec2,\n",
        "δt= 1; \n",
        "Process errors in process covariance matrix:\n",
        "δPx= 20 m/s\n",
        "δPvx= 5 m/s\n",
        "Observation error:\n",
        "Δx= 25 m, δVx= 6 m/s\n",
        "\n",
        "Observations:\n",
        "\n",
        "X1= 4260\tV1x= 282 m/s\n",
        "\n",
        "X2= 4550\tV2x= 285 m/s\n",
        "\n",
        "X3= 4860\tV3x= 286 m/s\n",
        "\n",
        "X4= 5110\tV4x= 290 m/s\n",
        "\n"
      ],
      "metadata": {
        "id": "nmIHTn_rWYC6"
      }
    },
    {
      "cell_type": "markdown",
      "source": [
        "Process control matrix\n",
        "\n",
        "Kalman Gain \n",
        "\n",
        "Error in Measurement + Prediction ⇒ Predicted value \n",
        "\n",
        "Estimated Value by the Kalman Gain"
      ],
      "metadata": {
        "id": "gzFuxWnTW_Mo"
      }
    },
    {
      "cell_type": "code",
      "source": [
        "import numpy as np"
      ],
      "metadata": {
        "id": "m64uxL57nCiC"
      },
      "execution_count": null,
      "outputs": []
    },
    {
      "cell_type": "code",
      "source": [
        "# Initial Data\n",
        "\n",
        "x0 = 4000 #m\n",
        "vx0 = 280 #m/s\n",
        "ax = 2 #m/s2\n",
        "dt = 1"
      ],
      "metadata": {
        "id": "cU7ralHAnKou"
      },
      "execution_count": null,
      "outputs": []
    },
    {
      "cell_type": "code",
      "source": [
        "# Errors\n",
        "\n",
        "# Process Errors \n",
        "dPx = 20 #m\n",
        "dPvx = 5 #m/s\n",
        "\n",
        "# Observation Errors\n",
        "dx = 25 #m\n",
        "dVx = 6 #m/s\n"
      ],
      "metadata": {
        "id": "fED_s_z5YdJh"
      },
      "execution_count": null,
      "outputs": []
    },
    {
      "cell_type": "code",
      "source": [
        "# Observations\n",
        "\n",
        "x1 = 4260 \n",
        "vx1 = 282 \n",
        "\n",
        "x2 = 4550\n",
        "vx2 = 285\n",
        "\n",
        "x3 = 4860\n",
        "vx3 = 286\n",
        "\n",
        "x4 = 5110\n",
        "vx4 = 290 "
      ],
      "metadata": {
        "id": "3KydjCHzYxhu"
      },
      "execution_count": null,
      "outputs": []
    },
    {
      "cell_type": "markdown",
      "source": [
        "### Calcluate Predicted State"
      ],
      "metadata": {
        "id": "dXUlzDSZZTFB"
      }
    },
    {
      "cell_type": "code",
      "source": [
        "def A(dt):\n",
        "    return np.array([[1, dt],\n",
        "                    [0 , 1]])"
      ],
      "metadata": {
        "id": "via2irtNa7ZI"
      },
      "execution_count": null,
      "outputs": []
    },
    {
      "cell_type": "code",
      "source": [
        "def B(dt):\n",
        "    return np.array([[0.5*(dt**2)],\n",
        "                        [dt]])"
      ],
      "metadata": {
        "id": "ILkH33TdbCIG"
      },
      "execution_count": null,
      "outputs": []
    },
    {
      "cell_type": "code",
      "source": [
        "def R(dx, dVx):\n",
        "    # Observation errors\n",
        "    return np.array([[dx**2, 0],\n",
        "                     [0 , dVx**2]])"
      ],
      "metadata": {
        "id": "mONTb_fxkUh7"
      },
      "execution_count": null,
      "outputs": []
    },
    {
      "cell_type": "code",
      "source": [
        "def CalculatePredictedState(X, dt, ax, wk = 0):\n",
        "    Xkp = np.add(np.dot(A(dt), X),np.dot(B(dt), ax))\n",
        "    Xkp = np.add(Xkp, wk)\n",
        "    return Xkp    "
      ],
      "metadata": {
        "id": "4MKAqfFaZWHE"
      },
      "execution_count": null,
      "outputs": []
    },
    {
      "cell_type": "code",
      "source": [
        "X = np.array([[x0], [vx0]])\n",
        "X1p = CalculatePredictedState(X, dt, ax)\n",
        "X1p"
      ],
      "metadata": {
        "colab": {
          "base_uri": "https://localhost:8080/"
        },
        "id": "BHxcXf8VbSVU",
        "outputId": "91494eb7-db6e-415e-f184-5f216c2ba5c4"
      },
      "execution_count": null,
      "outputs": [
        {
          "output_type": "execute_result",
          "data": {
            "text/plain": [
              "array([[4281.],\n",
              "       [ 282.]])"
            ]
          },
          "metadata": {},
          "execution_count": 18
        }
      ]
    },
    {
      "cell_type": "markdown",
      "source": [
        "### Initial Process Covariance Matrix"
      ],
      "metadata": {
        "id": "K1tUF8-Qdhnc"
      }
    },
    {
      "cell_type": "code",
      "source": [
        "def InitalProcessCovMat(dPx, dPvx):\n",
        "    # we are ignoring the non-diagonal terms\n",
        "    P0 = np.array([[dPx**2, 0], \n",
        "                         [0 , dPvx**2]])\n",
        "    return P0"
      ],
      "metadata": {
        "id": "b6YwtelddkRK"
      },
      "execution_count": null,
      "outputs": []
    },
    {
      "cell_type": "code",
      "source": [
        "P0 = InitalProcessCovMat(dPx, dPvx)"
      ],
      "metadata": {
        "id": "oiOdvZoJeNT_"
      },
      "execution_count": null,
      "outputs": []
    },
    {
      "cell_type": "markdown",
      "source": [
        "### Predicted Process Covariance"
      ],
      "metadata": {
        "id": "Kj79cKl1ev9H"
      }
    },
    {
      "cell_type": "code",
      "source": [
        "def PredictedProcessCovariance(Pkminus1, dt, Qr = 0):\n",
        "\n",
        "    Pkp = A(dt).dot(Pkminus1).dot(A(dt).transpose()) + Qr\n",
        "    Pkp = Pkp*np.identity(len(Pkp)) # ignoring non-diagonal elements\n",
        "    return Pkp"
      ],
      "metadata": {
        "id": "8M19nLR9e0l0"
      },
      "execution_count": null,
      "outputs": []
    },
    {
      "cell_type": "code",
      "source": [
        "P1p = PredictedProcessCovariance(P0, dt)\n",
        "P1p"
      ],
      "metadata": {
        "colab": {
          "base_uri": "https://localhost:8080/"
        },
        "id": "rjqc58V-fznk",
        "outputId": "52587f99-e541-4e01-ae73-82b2eb18f638"
      },
      "execution_count": null,
      "outputs": [
        {
          "output_type": "execute_result",
          "data": {
            "text/plain": [
              "array([[425.,   0.],\n",
              "       [  0.,  25.]])"
            ]
          },
          "metadata": {},
          "execution_count": 42
        }
      ]
    },
    {
      "cell_type": "markdown",
      "source": [
        "### Kalman Gain"
      ],
      "metadata": {
        "id": "QWWPhJh2kIU9"
      }
    },
    {
      "cell_type": "code",
      "source": [
        "def KalmanGain(Pkp, dx, dVx):\n",
        "    H = np.identity(len(Pkp))\n",
        "    numerator = Pkp*H.transpose()\n",
        "    d1 = H.dot(Pkp).dot(H.transpose())\n",
        "    denominator = np.add(d1, R(dx, dVx))\n",
        "    K = np.divide(numerator, denominator)\n",
        "    K = np.nan_to_num(K)\n",
        "    return K"
      ],
      "metadata": {
        "id": "vU66HA3ZkMKP"
      },
      "execution_count": null,
      "outputs": []
    },
    {
      "cell_type": "code",
      "source": [
        "K1 = KalmanGain(P1, dx, dVx)\n",
        "K1"
      ],
      "metadata": {
        "colab": {
          "base_uri": "https://localhost:8080/"
        },
        "id": "hu2PBGAKliQJ",
        "outputId": "5b24105d-2be6-4da2-e437-9bbc424e12ee"
      },
      "execution_count": null,
      "outputs": [
        {
          "output_type": "stream",
          "name": "stderr",
          "text": [
            "<ipython-input-14-538da1436b4e>:6: RuntimeWarning: invalid value encountered in true_divide\n",
            "  K = np.divide(numerator, denominator)\n"
          ]
        },
        {
          "output_type": "execute_result",
          "data": {
            "text/plain": [
              "array([[0.4047619 , 0.        ],\n",
              "       [0.        , 0.40983607]])"
            ]
          },
          "metadata": {},
          "execution_count": 20
        }
      ]
    },
    {
      "cell_type": "markdown",
      "source": [
        "### Finding new Observation"
      ],
      "metadata": {
        "id": "cBz6CTA5nZ1P"
      }
    },
    {
      "cell_type": "code",
      "source": [
        "def newObservation(x1, vx1, Z1=0):\n",
        "    Ykm = np.array([[x1], [vx1]])\n",
        "    C = np.identity(len(Ykm))\n",
        "    Yk = np.dot(C, Ykm) + Z1\n",
        "    return Yk"
      ],
      "metadata": {
        "id": "HSWs-3LOndGx"
      },
      "execution_count": null,
      "outputs": []
    },
    {
      "cell_type": "code",
      "source": [
        "Y1 = newObservation(x1, vx1)\n",
        "Y1"
      ],
      "metadata": {
        "colab": {
          "base_uri": "https://localhost:8080/"
        },
        "id": "eVZMbf0nnwhO",
        "outputId": "e5fe3ad7-c3f7-422c-8d6b-3ef7a85501c1"
      },
      "execution_count": null,
      "outputs": [
        {
          "output_type": "execute_result",
          "data": {
            "text/plain": [
              "array([[4260.],\n",
              "       [ 282.]])"
            ]
          },
          "metadata": {},
          "execution_count": 17
        }
      ]
    },
    {
      "cell_type": "markdown",
      "source": [
        "### Calculate Current Estimate"
      ],
      "metadata": {
        "id": "XRtUPQsmBJPj"
      }
    },
    {
      "cell_type": "code",
      "source": [
        "def CurrentEstimate(Xkp, K, Yk):\n",
        "    H = np.identity(len(Xkp[0]))\n",
        "    temp1 = np.subtract(Yk , np.multiply(H,Xkp))\n",
        "    Xk = np.add(Xkp , np.dot(K, temp1))\n",
        "    return Xk"
      ],
      "metadata": {
        "id": "iStFS8TIC9mS"
      },
      "execution_count": null,
      "outputs": []
    },
    {
      "cell_type": "code",
      "source": [
        "X1 = CurrentEstimate(X1p, K1, Y1)\n",
        "X1"
      ],
      "metadata": {
        "colab": {
          "base_uri": "https://localhost:8080/"
        },
        "id": "tbhYzdCyEE9x",
        "outputId": "da6a147b-832d-4441-e826-8ca0ac6f573c"
      },
      "execution_count": null,
      "outputs": [
        {
          "output_type": "execute_result",
          "data": {
            "text/plain": [
              "array([[4272.5],\n",
              "       [ 282. ]])"
            ]
          },
          "metadata": {},
          "execution_count": 67
        }
      ]
    },
    {
      "cell_type": "markdown",
      "source": [
        "### Update Process Covariance Matrix"
      ],
      "metadata": {
        "id": "Pr9pKrq0HMKM"
      }
    },
    {
      "cell_type": "code",
      "source": [
        "def newProcessCovMat(K, Pkp):\n",
        "    I = H = np.identity(len(Pkp))\n",
        "    temp = np.subtract(I, np.multiply(K, H))\n",
        "    Pk = np.dot(temp, Pkp)\n",
        "    return Pk"
      ],
      "metadata": {
        "id": "htj5FDvsHRnz"
      },
      "execution_count": null,
      "outputs": []
    },
    {
      "cell_type": "code",
      "source": [
        "P1 = newProcessCovMat(K1, P1p)\n",
        "P1"
      ],
      "metadata": {
        "colab": {
          "base_uri": "https://localhost:8080/"
        },
        "id": "Lskjo-X2IH64",
        "outputId": "aaa78f34-d4e3-4497-f7b9-73706ec26cc3"
      },
      "execution_count": null,
      "outputs": [
        {
          "output_type": "execute_result",
          "data": {
            "text/plain": [
              "array([[252.97619048,   0.        ],\n",
              "       [  0.        ,  14.75409836]])"
            ]
          },
          "metadata": {},
          "execution_count": 69
        }
      ]
    },
    {
      "cell_type": "markdown",
      "source": [
        "### Creating a Pipeline"
      ],
      "metadata": {
        "id": "yFSP6HYTJRIC"
      }
    },
    {
      "cell_type": "code",
      "source": [
        "def KalmanFilter(x, vx, dt, ax, dPx, dPvx):\n",
        "\n",
        "    # Suppress/hide the warning\n",
        "    np.seterr(invalid='ignore')\n",
        "\n",
        "    # printing options\n",
        "    np.set_printoptions(formatter={'float': '{: 0.3f}'.format})\n",
        "\n",
        "    # Step 0: Initial Values (X0 and P0)\n",
        "    Xkminus1 = np.array([[x[0]], [vx[0]]]) \n",
        "    Pkminus1 = InitalProcessCovMat(dPx, dPvx)\n",
        "\n",
        "    final_results = []\n",
        "    \n",
        "    for k in range(1, len(x)):\n",
        "\n",
        "        print(\"--------------------------------------------------------------------------------------\")\n",
        "        print(\"Iteration with k = \", k)\n",
        "        print(\"--------------------------------------------------------------------------------------\")\n",
        "\n",
        "        # Step 1: Calculate Predicted State\n",
        "        Xkp = CalculatePredictedState(Xkminus1, dt, ax)\n",
        "\n",
        "        print(f\"X{k}p = \\n\", Xkp, \"\\n\\n\")\n",
        "\n",
        "        # Step 2: Predicted Process Covariance \n",
        "        Pkp = PredictedProcessCovariance(Pkminus1, dt) \n",
        "\n",
        "        print(f\"P{k}p = \\n\", Pkp, \"\\n\\n\")\n",
        "\n",
        "        # Step 3: Calculate the Kalman Gain\n",
        "        KG = KalmanGain(Pkp, dx, dVx)\n",
        "\n",
        "        print(f\"K{k} = \\n\", KG, \"\\n\\n\")\n",
        "\n",
        "        # Step 4: Finding New Observation\n",
        "        # Here k is taken instead of k+1 because of 0 indexing in the x and vx list\n",
        "        Yk = newObservation(x[k], vx[k]) \n",
        "\n",
        "        print(f\"Y{k} = \\n\", Yk, \"\\n\\n\")\n",
        "\n",
        "        # Step 5: Calculate the current Estimate State\n",
        "        Xk = CurrentEstimate(Xkp, KG , Yk)\n",
        "        final_results.append(Xk)\n",
        "\n",
        "        print(f\"X{k} = \\n\", Xk, \"\\n\\n\")\n",
        "\n",
        "        \n",
        "        # If not last iteration - update the matrices \n",
        "        if (k==len(x)-1):\n",
        "            break\n",
        "\n",
        "\n",
        "        # Step 6: Updating Process Covariance Matrix\n",
        "        Pminus1 = newProcessCovMat(KG, Pkp)\n",
        "\n",
        "        print(\"New P = \\n\", Pminus1, \"\\n\\n\")\n",
        "\n",
        "        # Step 7: Updating State Matrix \n",
        "\n",
        "        Xkminus1 = Xk\n",
        "\n",
        "\n",
        "    return final_results\n"
      ],
      "metadata": {
        "id": "G5H_WX9SJSRf"
      },
      "execution_count": null,
      "outputs": []
    },
    {
      "cell_type": "code",
      "source": [
        "x = [x0, x1, x2, x3, x4]\n",
        "vx = [vx0, vx1, vx2, vx3, vx4]"
      ],
      "metadata": {
        "id": "4BwkoOkQohW0"
      },
      "execution_count": null,
      "outputs": []
    },
    {
      "cell_type": "code",
      "source": [
        "final_result = KalmanFilter(x, vx, dt, ax, dPx, dPvx)"
      ],
      "metadata": {
        "colab": {
          "base_uri": "https://localhost:8080/"
        },
        "id": "c1WmnEyQJ9wA",
        "outputId": "cbfd787c-bab2-4bbe-bbc4-75e459307067"
      },
      "execution_count": null,
      "outputs": [
        {
          "output_type": "stream",
          "name": "stdout",
          "text": [
            "--------------------------------------------------------------------------------------\n",
            "Iteration with k =  1\n",
            "--------------------------------------------------------------------------------------\n",
            "X1p = \n",
            " [[ 4281.000]\n",
            " [ 282.000]] \n",
            "\n",
            "\n",
            "P1p = \n",
            " [[ 425.000  0.000]\n",
            " [ 0.000  25.000]] \n",
            "\n",
            "\n",
            "K1 = \n",
            " [[ 0.405  0.000]\n",
            " [ 0.000  0.410]] \n",
            "\n",
            "\n",
            "Y1 = \n",
            " [[ 4260.000]\n",
            " [ 282.000]] \n",
            "\n",
            "\n",
            "X1 = \n",
            " [[ 4272.500]\n",
            " [ 282.000]] \n",
            "\n",
            "\n",
            "New P = \n",
            " [[ 252.976  0.000]\n",
            " [ 0.000  14.754]] \n",
            "\n",
            "\n",
            "--------------------------------------------------------------------------------------\n",
            "Iteration with k =  2\n",
            "--------------------------------------------------------------------------------------\n",
            "X2p = \n",
            " [[ 4555.500]\n",
            " [ 284.000]] \n",
            "\n",
            "\n",
            "P2p = \n",
            " [[ 425.000  0.000]\n",
            " [ 0.000  25.000]] \n",
            "\n",
            "\n",
            "K2 = \n",
            " [[ 0.405  0.000]\n",
            " [ 0.000  0.410]] \n",
            "\n",
            "\n",
            "Y2 = \n",
            " [[ 4550.000]\n",
            " [ 285.000]] \n",
            "\n",
            "\n",
            "X2 = \n",
            " [[ 4553.274]\n",
            " [ 284.410]] \n",
            "\n",
            "\n",
            "New P = \n",
            " [[ 252.976  0.000]\n",
            " [ 0.000  14.754]] \n",
            "\n",
            "\n",
            "--------------------------------------------------------------------------------------\n",
            "Iteration with k =  3\n",
            "--------------------------------------------------------------------------------------\n",
            "X3p = \n",
            " [[ 4838.684]\n",
            " [ 286.410]] \n",
            "\n",
            "\n",
            "P3p = \n",
            " [[ 425.000  0.000]\n",
            " [ 0.000  25.000]] \n",
            "\n",
            "\n",
            "K3 = \n",
            " [[ 0.405  0.000]\n",
            " [ 0.000  0.410]] \n",
            "\n",
            "\n",
            "Y3 = \n",
            " [[ 4860.000]\n",
            " [ 286.000]] \n",
            "\n",
            "\n",
            "X3 = \n",
            " [[ 4847.312]\n",
            " [ 286.242]] \n",
            "\n",
            "\n",
            "New P = \n",
            " [[ 252.976  0.000]\n",
            " [ 0.000  14.754]] \n",
            "\n",
            "\n",
            "--------------------------------------------------------------------------------------\n",
            "Iteration with k =  4\n",
            "--------------------------------------------------------------------------------------\n",
            "X4p = \n",
            " [[ 5134.554]\n",
            " [ 288.242]] \n",
            "\n",
            "\n",
            "P4p = \n",
            " [[ 425.000  0.000]\n",
            " [ 0.000  25.000]] \n",
            "\n",
            "\n",
            "K4 = \n",
            " [[ 0.405  0.000]\n",
            " [ 0.000  0.410]] \n",
            "\n",
            "\n",
            "Y4 = \n",
            " [[ 5110.000]\n",
            " [ 290.000]] \n",
            "\n",
            "\n",
            "X4 = \n",
            " [[ 5124.615]\n",
            " [ 288.962]] \n",
            "\n",
            "\n"
          ]
        }
      ]
    },
    {
      "cell_type": "code",
      "source": [
        "for i in range(len(final_result)):\n",
        "    print(f'X{i+1} = \\n', final_result[i], '\\n')"
      ],
      "metadata": {
        "colab": {
          "base_uri": "https://localhost:8080/"
        },
        "id": "hfsjd2xMRCMY",
        "outputId": "46baf468-7271-4bc3-cad5-6042894fb9e6"
      },
      "execution_count": null,
      "outputs": [
        {
          "output_type": "stream",
          "name": "stdout",
          "text": [
            "X1 = \n",
            " [[ 4272.500]\n",
            " [ 282.000]] \n",
            "\n",
            "X2 = \n",
            " [[ 4553.274]\n",
            " [ 284.410]] \n",
            "\n",
            "X3 = \n",
            " [[ 4847.312]\n",
            " [ 286.242]] \n",
            "\n",
            "X4 = \n",
            " [[ 5124.615]\n",
            " [ 288.962]] \n",
            "\n"
          ]
        }
      ]
    },
    {
      "cell_type": "markdown",
      "source": [
        "### Conclusion: \n",
        "Hence we have thus implemented the Kalman Filter from scratch in Python.\n",
        "We have obtained the results for X1, X2, X3, X4 which are the estimated States for time instants 1, 2, 3, 4.\n"
      ],
      "metadata": {
        "id": "1H8FBOQz1seK"
      }
    }
  ]
}